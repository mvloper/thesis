{
 "cells": [
  {
   "cell_type": "markdown",
   "id": "2b05a1cc-ff02-4bfd-a27c-77924c6295c2",
   "metadata": {},
   "source": [
    "# Binary Words Homomesy etc\n",
    "Milena Loper and Brooke Gieselmann\n",
    "\n",
    "Spring 2025"
   ]
  },
  {
   "cell_type": "code",
   "execution_count": 1,
   "id": "89ac4765-4ec4-4cfe-9096-ffc0b4ccdd2f",
   "metadata": {},
   "outputs": [],
   "source": [
    "def binary_words(length: int):\n",
    "    if length == 1:\n",
    "        return [\"0\", \"1\"]\n",
    "    words = binary_words(length - 1)\n",
    "    for i in range(len(words)):\n",
    "        words.append(\"1\" + words[i])\n",
    "        words[i] = \"0\" + words[i]\n",
    "    return words"
   ]
  },
  {
   "cell_type": "markdown",
   "id": "ea4a19b9-2cff-4ea2-a720-488d0b301eb3",
   "metadata": {},
   "source": [
    "# Maps"
   ]
  },
  {
   "cell_type": "code",
   "execution_count": 2,
   "id": "8cabde8a-d129-4773-b97f-f23807e45098",
   "metadata": {},
   "outputs": [],
   "source": [
    "def reverse(word):\n",
    "    return word[::-1]"
   ]
  },
  {
   "cell_type": "code",
   "execution_count": 3,
   "id": "983c5ecd-3446-4625-a38f-2942047bfca0",
   "metadata": {},
   "outputs": [],
   "source": [
    "def flip(word):\n",
    "    new_word = \"\"\n",
    "    for i in range(len(word)):\n",
    "        new_word += \"0\" if word[i] == \"1\" else \"1\"\n",
    "    return new_word"
   ]
  },
  {
   "cell_type": "markdown",
   "id": "2e91e881-35ad-4906-bebc-1d6bace662c7",
   "metadata": {},
   "source": [
    "# Statistics"
   ]
  },
  {
   "cell_type": "code",
   "execution_count": 4,
   "id": "35415767-de7d-45ec-aa7c-5cbba4990ba3",
   "metadata": {},
   "outputs": [],
   "source": [
    "def number_of_ones(word):\n",
    "    return word.count(\"1\")"
   ]
  },
  {
   "cell_type": "code",
   "execution_count": 5,
   "id": "ef2f0756-0b3d-48f0-9901-6f43e92e0919",
   "metadata": {},
   "outputs": [],
   "source": [
    "def decimal_representation(word):\n",
    "    return int(word, 2)"
   ]
  },
  {
   "cell_type": "code",
   "execution_count": 6,
   "id": "7fdd8ca4-f362-4b1e-8442-520e291e30d0",
   "metadata": {},
   "outputs": [],
   "source": [
    "def major_index(word):\n",
    "    l = len(word)\n",
    "    count = 0\n",
    "    for i in range(1,l):\n",
    "        # print(i, word[i], word[i-1])\n",
    "        if word[i] == \"0\" and word[i-1] == \"1\":\n",
    "            count += i\n",
    "    return count"
   ]
  },
  {
   "cell_type": "code",
   "execution_count": 7,
   "id": "3a27bc85-ccef-4670-8bcf-a39d9acd33a8",
   "metadata": {},
   "outputs": [],
   "source": [
    "def num_descents(word):\n",
    "    l = len(word)\n",
    "    count = 0\n",
    "    for i in range(1,l):\n",
    "        # print(i, word[i], word[i-1])\n",
    "        if word[i] == \"0\" and word[i-1] == \"1\":\n",
    "            count += 1\n",
    "    return count\n",
    "\n",
    "def num_ascents(word):\n",
    "    l = len(word)\n",
    "    count = 0\n",
    "    for i in range(1,l):\n",
    "        # print(i, word[i], word[i-1])\n",
    "        if word[i] == \"1\" and word[i-1] == \"0\":\n",
    "            count += 1\n",
    "    return count"
   ]
  },
  {
   "cell_type": "code",
   "execution_count": null,
   "id": "56f38f47-c484-41dc-b086-58927c84fa54",
   "metadata": {},
   "outputs": [],
   "source": []
  },
  {
   "cell_type": "markdown",
   "id": "fa6b996e-301f-469f-bc16-a4c8abc01ac3",
   "metadata": {},
   "source": [
    "# Homomesy"
   ]
  },
  {
   "cell_type": "code",
   "execution_count": 52,
   "id": "5712b5eb-3477-4cee-b3f8-d66fbe906e44",
   "metadata": {},
   "outputs": [],
   "source": [
    "def get_avg_stat(word, Map, Stat):\n",
    "    \"\"\"\n",
    "    helper function for homomesy\n",
    "    args:\n",
    "        word: str, binary word\n",
    "        Map: function to map word\n",
    "        Stat: function to check statistic of word\n",
    "    \"\"\"\n",
    "    stat = 0\n",
    "    orbit = 0\n",
    "    current = word\n",
    "    while current != word or orbit == 0:\n",
    "        stat += Stat(current)\n",
    "        current = Map(current)\n",
    "        orbit += 1\n",
    "    stat = stat / orbit\n",
    "    return stat, orbit\n",
    "\n",
    "def homomesy(words, Map, Stat):\n",
    "    \"\"\"\n",
    "    args:\n",
    "        words: list, binary words to check\n",
    "        Map: function to map words with\n",
    "        Stat: function to check statistic of word\n",
    "    returns:\n",
    "        avg_stats: dict, average statistic of each word's orbit\n",
    "        orbits: dict, orbit sizes of each word\n",
    "        total_avg: int, average of all words statistic \n",
    "    \"\"\"\n",
    "    avg_stats = {}\n",
    "    orbits = {}\n",
    "    total_avg = 0\n",
    "    \n",
    "    for word in words:\n",
    "        avg_stats[word], orbits[word] = get_avg_stat(word, Map, Stat)\n",
    "\n",
    "    for word in words:\n",
    "        total_avg += Stat(word)\n",
    "    total_avg = total_avg / len(words)\n",
    "    \n",
    "    return avg_stats, orbits, total_avg\n",
    "\n",
    "\n",
    "def is_homomesic(words, Map, Stat):\n",
    "    avg_stats, orbits, total_avg = homomesy(words, Map, Stat)\n",
    "    for word in avg_stats:\n",
    "        if avg_stats[word] != total_avg:\n",
    "            print(f\"exception: {word}\")\n",
    "            print(f\"total average: {total_avg}\")\n",
    "            print(f\"average of {word}: {avg_stats[word]}\")\n",
    "            return False\n",
    "    return True\n",
    "     "
   ]
  },
  {
   "cell_type": "code",
   "execution_count": 53,
   "id": "60aa8966-4690-4ad0-95ae-427ce3178cf8",
   "metadata": {},
   "outputs": [
    {
     "data": {
      "text/plain": [
       "({'000': 1.5,\n",
       "  '001': 1.5,\n",
       "  '010': 1.5,\n",
       "  '011': 1.5,\n",
       "  '100': 1.5,\n",
       "  '101': 1.5,\n",
       "  '110': 1.5,\n",
       "  '111': 1.5},\n",
       " {'000': 2,\n",
       "  '001': 2,\n",
       "  '010': 2,\n",
       "  '011': 2,\n",
       "  '100': 2,\n",
       "  '101': 2,\n",
       "  '110': 2,\n",
       "  '111': 2},\n",
       " 1.5)"
      ]
     },
     "execution_count": 53,
     "metadata": {},
     "output_type": "execute_result"
    }
   ],
   "source": [
    "homomesy(binary_words(3), flip, number_of_ones)"
   ]
  },
  {
   "cell_type": "code",
   "execution_count": 55,
   "id": "30c061c7-db8f-4c03-8cda-0099a0f31ece",
   "metadata": {},
   "outputs": [
    {
     "data": {
      "text/plain": [
       "True"
      ]
     },
     "execution_count": 55,
     "metadata": {},
     "output_type": "execute_result"
    }
   ],
   "source": [
    "is_homomesic(binary_words(3), flip, number_of_ones)"
   ]
  },
  {
   "cell_type": "code",
   "execution_count": 56,
   "id": "1ef20439-17ad-4de4-ad10-6c332f244cf7",
   "metadata": {},
   "outputs": [],
   "source": [
    "## bunk code:\n",
    "\n",
    "# def homomesy(Map, words, Stat):\n",
    "#     avg_stats = {}\n",
    "#     orbit_sizes = {}\n",
    "#     for word in words:\n",
    "#         orbit_size = 1\n",
    "#         statsum = Stat(word)\n",
    "#         current = Map(word)\n",
    "#         prev = word\n",
    "#         while current != word:\n",
    "#             prev = current\n",
    "#             current = Map(current)\n",
    "#             statsum += Stat(current)\n",
    "#             orbit_size += 1\n",
    "#         avg_stats[word] = statsum / orbit_size\n",
    "#         orbit_sizes[word] = orbit_size\n",
    "        \n",
    "#     avg_stat_total = 0\n",
    "#     for word in words:\n",
    "#         avg_stat_total += Stat(word)\n",
    "#     avg_stat_total = avg_stat_total / len(words)\n",
    "#     return avg_stat_total, avg_stats, orbit_sizes\n",
    "\n",
    "# #import uhhh stuff\n",
    "\n",
    "# def get_orbit(Map, item):\n",
    "#     ''' Returns the orbit on the Map as a list starting with item.'''\n",
    "\n",
    "#     orbit = []\n",
    "#     current = item\n",
    "#     while current != item or orbit == []: \n",
    "#         orbit.append(Map(item))\n",
    "#     return orbit\n",
    "\n",
    "# def avg_stat(set_, Stat):\n",
    "#     ''' Returns the average of the statistic on a given set. '''\n",
    "\n",
    "#     stat_sum = 0\n",
    "#     for item in set_:\n",
    "#         stat_sum += Stat(item)\n",
    "#     return stat_sum / len(set_)\n",
    "\n",
    "# def is_homomesic(Map, object_set, Stat):\n",
    "#     ''' Returns bool for if the map on the set is homomesic under the given statistic.'''\n",
    "\n",
    "#     global_avg_stat = avg_stat(object_set, Stat)\n",
    "    \n",
    "#     # inefficient for now, figure out how to skip entries later?\n",
    "#     print(\"global average statistic: \", global_avg_stat)\n",
    "#     for item in object_set:\n",
    "#         orbit = get_orbit(Map, item)\n",
    "#         orbit_avg_stat = avg_stat(orbit, Stat)\n",
    "#         if orbit_avg_stat != global_avg_stat:\n",
    "#             print(f\"Exception is {str(orbit)}. average stat is {orbit_avg_stat}\")\n",
    "#             return False\n",
    "        \n",
    "#     return True"
   ]
  },
  {
   "cell_type": "code",
   "execution_count": null,
   "id": "e5948b7c-cb58-4467-b932-f3bb63d39fff",
   "metadata": {},
   "outputs": [],
   "source": []
  }
 ],
 "metadata": {
  "kernelspec": {
   "display_name": "Python 3 (ipykernel)",
   "language": "python",
   "name": "python3"
  },
  "language_info": {
   "codemirror_mode": {
    "name": "ipython",
    "version": 3
   },
   "file_extension": ".py",
   "mimetype": "text/x-python",
   "name": "python",
   "nbconvert_exporter": "python",
   "pygments_lexer": "ipython3",
   "version": "3.13.2"
  }
 },
 "nbformat": 4,
 "nbformat_minor": 5
}
