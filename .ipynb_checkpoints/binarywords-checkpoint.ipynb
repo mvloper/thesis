{
 "cells": [
  {
   "cell_type": "markdown",
   "id": "2b05a1cc-ff02-4bfd-a27c-77924c6295c2",
   "metadata": {},
   "source": [
    "# Binary Words Homomesy etc\n",
    "Milena Loper and Brooke Gieselmann\n",
    "\n",
    "Spring 2025"
   ]
  },
  {
   "cell_type": "code",
   "execution_count": 1,
   "id": "89ac4765-4ec4-4cfe-9096-ffc0b4ccdd2f",
   "metadata": {},
   "outputs": [],
   "source": [
    "def binary_words(length: int):\n",
    "    if length == 1:\n",
    "        return [\"0\", \"1\"]\n",
    "    words = binary_words(length - 1)\n",
    "    for i in range(len(words)):\n",
    "        words.append(\"1\" + words[i])\n",
    "        words[i] = \"0\" + words[i]\n",
    "    return words"
   ]
  },
  {
   "cell_type": "markdown",
   "id": "ea4a19b9-2cff-4ea2-a720-488d0b301eb3",
   "metadata": {},
   "source": [
    "# Maps"
   ]
  },
  {
   "cell_type": "code",
   "execution_count": 2,
   "id": "8cabde8a-d129-4773-b97f-f23807e45098",
   "metadata": {},
   "outputs": [],
   "source": [
    "def reverse(word):\n",
    "    return word[::-1]"
   ]
  },
  {
   "cell_type": "code",
   "execution_count": 3,
   "id": "983c5ecd-3446-4625-a38f-2942047bfca0",
   "metadata": {},
   "outputs": [],
   "source": [
    "def complement(word):\n",
    "    new_word = \"\"\n",
    "    for i in range(len(word)):\n",
    "        new_word += str((int(word[i]) - 1) % 2)\n",
    "    return new_word"
   ]
  },
  {
   "cell_type": "code",
   "execution_count": 4,
   "id": "7457af7d-bc71-4d46-917d-7e40d0b8ebf5",
   "metadata": {},
   "outputs": [],
   "source": [
    "def rotate_front_to_back(word):\n",
    "    return word[1:] + word[0]\n",
    "\n",
    "def rotate_back_to_front(word):\n",
    "    return word[-1] + word[:-1]"
   ]
  },
  {
   "cell_type": "code",
   "execution_count": 5,
   "id": "84077f92-2d5e-48e7-995d-96317e5ee002",
   "metadata": {},
   "outputs": [],
   "source": [
    "def alternating_inverse(word):\n",
    "    new_word = \"\"\n",
    "    for i in range(len(word)):\n",
    "        if i % 2 == 1:\n",
    "            new_word += str((int(word[i]) - 1) % 2)\n",
    "        else:\n",
    "            new_word += word[i]\n",
    "    return new_word"
   ]
  },
  {
   "cell_type": "code",
   "execution_count": 6,
   "id": "37568786-ccec-4a35-8ba1-20770213283f",
   "metadata": {},
   "outputs": [],
   "source": [
    "def twist(word):\n",
    "    return str((int(word[0]) - 1) % 2) + word[1:]"
   ]
  },
  {
   "cell_type": "code",
   "execution_count": 7,
   "id": "ed444f48-4210-4595-b45c-e640743f133b",
   "metadata": {},
   "outputs": [],
   "source": [
    "def gray_next(word):\n",
    "    print(\"gonna get back to this one\")\n",
    "    print(\"should add one to binary, little endian (smallest digit first)\")\n",
    "    #this algorithm is baddddd\n",
    "    # if word[0] == \"0\":\n",
    "    #     return \"1\" + word[1:]\n",
    "    # new_word = \"\"\n",
    "    # i = 0\n",
    "    # while word[i] == \"1\":\n",
    "    #     new_word += \"0\"\n",
    "    #     i += 1\n",
    "    # if i < len(word):\n",
    "    #     new_word += \"1\"\n",
    "    # for j in range(i+1, len(word)):\n",
    "    #     new_word += word[j]\n",
    "    # return new_word\n",
    "    \n",
    "def gray_previous(word):\n",
    "    print(\"gonna get back to this one\")\n",
    "    print(\"should add one to binary, big endian (biggest digit first)\")\n",
    "    return"
   ]
  },
  {
   "cell_type": "code",
   "execution_count": 8,
   "id": "9e706cbd-06db-4872-9e2a-1d2b8d32254e",
   "metadata": {},
   "outputs": [],
   "source": [
    "def zeros_to_flag_zeros(word):\n",
    "    return\n",
    "\n",
    "def flag_zeros_to_zeros(word):\n",
    "    return"
   ]
  },
  {
   "cell_type": "code",
   "execution_count": 9,
   "id": "272587c7-0e6e-4eee-9a11-2324d1a58809",
   "metadata": {},
   "outputs": [],
   "source": [
    "def rowmotion(word):\n",
    "    return\n",
    "\n",
    "def path_rowmotion(word):\n",
    "    return"
   ]
  },
  {
   "cell_type": "code",
   "execution_count": 10,
   "id": "0529b4b6-19f4-4463-8368-a19592bd4aaa",
   "metadata": {},
   "outputs": [],
   "source": [
    "def foata_bijection(word):\n",
    "    return\n",
    "\n",
    "def inverse_foata_bijection(word):\n",
    "    return"
   ]
  },
  {
   "cell_type": "markdown",
   "id": "2e91e881-35ad-4906-bebc-1d6bace662c7",
   "metadata": {},
   "source": [
    "# Statistics"
   ]
  },
  {
   "cell_type": "code",
   "execution_count": 11,
   "id": "35415767-de7d-45ec-aa7c-5cbba4990ba3",
   "metadata": {},
   "outputs": [],
   "source": [
    "def number_of_ones(word):\n",
    "    return word.count(\"1\")"
   ]
  },
  {
   "cell_type": "code",
   "execution_count": 12,
   "id": "ef2f0756-0b3d-48f0-9901-6f43e92e0919",
   "metadata": {},
   "outputs": [],
   "source": [
    "def decimal_representation(word):\n",
    "    return int(word, 2)"
   ]
  },
  {
   "cell_type": "code",
   "execution_count": 13,
   "id": "7fdd8ca4-f362-4b1e-8442-520e291e30d0",
   "metadata": {},
   "outputs": [],
   "source": [
    "def major_index(word):\n",
    "    l = len(word)\n",
    "    count = 0\n",
    "    for i in range(1,l):\n",
    "        # print(i, word[i], word[i-1])\n",
    "        if word[i] == \"0\" and word[i-1] == \"1\":\n",
    "            count += i\n",
    "    return count"
   ]
  },
  {
   "cell_type": "code",
   "execution_count": 14,
   "id": "3a27bc85-ccef-4670-8bcf-a39d9acd33a8",
   "metadata": {},
   "outputs": [],
   "source": [
    "def num_descents(word):\n",
    "    l = len(word)\n",
    "    count = 0\n",
    "    for i in range(1,l):\n",
    "        # print(i, word[i], word[i-1])\n",
    "        if word[i] == \"0\" and word[i-1] == \"1\":\n",
    "            count += 1\n",
    "    return count\n",
    "\n",
    "def num_ascents(word):\n",
    "    l = len(word)\n",
    "    count = 0\n",
    "    for i in range(1,l):\n",
    "        # print(i, word[i], word[i-1])\n",
    "        if word[i] == \"1\" and word[i-1] == \"0\":\n",
    "            count += 1\n",
    "    return count"
   ]
  },
  {
   "cell_type": "code",
   "execution_count": 15,
   "id": "56f38f47-c484-41dc-b086-58927c84fa54",
   "metadata": {},
   "outputs": [],
   "source": [
    "def num_inversions(word):\n",
    "    return"
   ]
  },
  {
   "cell_type": "code",
   "execution_count": 16,
   "id": "cad4153a-649a-4726-8643-5095da0311cf",
   "metadata": {},
   "outputs": [],
   "source": [
    "def num_disctinct_factors(word):\n",
    "    return"
   ]
  },
  {
   "cell_type": "code",
   "execution_count": 32,
   "id": "c08d429f-a5b3-447c-ad2c-3f5ef47080b3",
   "metadata": {},
   "outputs": [],
   "source": [
    "def border_length(word):\n",
    "    \"\"\"St000295\"\"\"\n",
    "    for i in range(len(word)-1, 0, -1):\n",
    "        if word[:i] == word[-i:]:\n",
    "            # print(\"huh\")\n",
    "            return i\n",
    "    return i-1"
   ]
  },
  {
   "cell_type": "code",
   "execution_count": 36,
   "id": "e4c86389-c5c0-40a5-8b22-64c64b99844a",
   "metadata": {},
   "outputs": [],
   "source": [
    "def symmetric_border_length(word):\n",
    "    \"\"\"St000296\"\"\"\n",
    "    for i in range(len(word)):\n",
    "        if word[i] != word[-(i+1)]:\n",
    "            return i\n",
    "    return i"
   ]
  },
  {
   "cell_type": "code",
   "execution_count": 43,
   "id": "d52e5a43-c5e0-400a-92a2-9e61ac9c07d6",
   "metadata": {},
   "outputs": [],
   "source": [
    "def num_leading_ones(word):\n",
    "    \"\"\"St000297\"\"\"\n",
    "    i = 0\n",
    "    while word[i] == \"1\":\n",
    "        i += 1\n",
    "    return i"
   ]
  },
  {
   "cell_type": "code",
   "execution_count": 51,
   "id": "95ad1416-cf85-421a-bdb1-45fcdd9a9057",
   "metadata": {},
   "outputs": [],
   "source": [
    "def first_one_position(word):\n",
    "    \"\"\"St000326\"\"\"\n",
    "    word = word + \"1\"\n",
    "    i = 0\n",
    "    while word[i] != \"1\":\n",
    "        i += 1\n",
    "    return i"
   ]
  },
  {
   "cell_type": "code",
   "execution_count": 55,
   "id": "7d675401-5480-472a-94ef-7c06e4ba1423",
   "metadata": {},
   "outputs": [],
   "source": [
    "def inversion_sum(word):\n",
    "    \"\"\"St000347\"\"\"\n",
    "    return"
   ]
  },
  {
   "cell_type": "code",
   "execution_count": 56,
   "id": "73c38924-5d58-4c6c-9a78-a837dad77398",
   "metadata": {},
   "outputs": [],
   "source": [
    "def non_inversion_sum(word):\n",
    "    \"\"\"St000348\"\"\"\n",
    "    return"
   ]
  },
  {
   "cell_type": "code",
   "execution_count": 80,
   "id": "161c8f7d-dae4-450b-9548-f567ebff47ab",
   "metadata": {},
   "outputs": [],
   "source": [
    "def num_odd_runs(word):\n",
    "    \"\"\"St000389\"\"\"\n",
    "    i = 0\n",
    "    runs = 0\n",
    "    while i < len(word):\n",
    "        if word[i] == \"1\":\n",
    "            start = i % 2\n",
    "            while i < len(word) and word[i] == \"1\":\n",
    "                i += 1\n",
    "            stop = i % 2\n",
    "            if start != stop:\n",
    "                runs += 1\n",
    "        i += 1\n",
    "    return runs"
   ]
  },
  {
   "cell_type": "code",
   "execution_count": 87,
   "id": "c1a96029-ab62-484c-aef5-da44bcea50a8",
   "metadata": {},
   "outputs": [],
   "source": [
    "def num_runs(word):\n",
    "    \"\"\"St000390\"\"\"\n",
    "    i = 0\n",
    "    runs = 0\n",
    "    while i < len(word):\n",
    "        if word[i] == \"1\":\n",
    "            runs += 1\n",
    "            while word[i] == \"1\":\n",
    "                i += 1\n",
    "        i += 1\n",
    "    return runs"
   ]
  },
  {
   "cell_type": "code",
   "execution_count": 96,
   "id": "f1af728f-965e-47b7-a37b-189de2bfbc31",
   "metadata": {},
   "outputs": [],
   "source": [
    "def sum_ones_positions(word):\n",
    "    \"\"\"St000391\"\"\"\n",
    "    # CHECK IF 1 OR 0 INDEXED\n",
    "    total = 0\n",
    "    for i in range(len(word)):\n",
    "        if word[i] == \"1\":\n",
    "            total += i\n",
    "    return total"
   ]
  },
  {
   "cell_type": "code",
   "execution_count": 97,
   "id": "aa8d6061-311a-43fe-b7cd-860bbf748ed6",
   "metadata": {},
   "outputs": [],
   "source": [
    "def longest_run_length(word):\n",
    "    \"\"\"St000392\"\"\"\n",
    "    i = 0\n",
    "    run = 0\n",
    "    while i < len(word):\n",
    "        if word[i] == \"1\":\n",
    "            start = i\n",
    "            while i < len(word) and word[i] == \"1\":\n",
    "                i += 1\n",
    "            stop = i\n",
    "            run = max(run, stop - start)\n",
    "        i += 1\n",
    "    return run"
   ]
  },
  {
   "cell_type": "code",
   "execution_count": 105,
   "id": "0d14923a-bb5e-4a98-a289-ccec6094d221",
   "metadata": {},
   "outputs": [
    {
     "data": {
      "text/plain": [
       "2"
      ]
     },
     "execution_count": 105,
     "metadata": {},
     "output_type": "execute_result"
    }
   ],
   "source": [
    "longest_run_length(\"1011011010\")"
   ]
  },
  {
   "cell_type": "markdown",
   "id": "38a5f156-2f0a-41d0-9316-ff2110928606",
   "metadata": {},
   "source": [
    "**number of ascents and number of strictly increasing runs is the same?** (St000393)"
   ]
  },
  {
   "cell_type": "code",
   "execution_count": 1,
   "id": "4cd6fed7-066e-4961-b4d4-81841d257707",
   "metadata": {},
   "outputs": [],
   "source": [
    "def num_distinct_subsequences(word):\n",
    "    \"\"\"St000518\"\"\"\n",
    "    return"
   ]
  },
  {
   "cell_type": "code",
   "execution_count": 2,
   "id": "f6973fc9-082b-42a4-984a-42c0b86a134d",
   "metadata": {},
   "outputs": [],
   "source": [
    "#St000519The largest length of a factor maximising the subword complexity."
   ]
  },
  {
   "cell_type": "code",
   "execution_count": 3,
   "id": "c398f11c-534c-46d0-af5c-15eafeac71ae",
   "metadata": {},
   "outputs": [],
   "source": [
    "#St000529The number of permutations whose descent word is the given binary word."
   ]
  },
  {
   "cell_type": "code",
   "execution_count": 4,
   "id": "11415968-0957-49b5-a43d-2835cd10c86a",
   "metadata": {},
   "outputs": [],
   "source": [
    "#St000543The size of the conjugacy class of a binary word."
   ]
  },
  {
   "cell_type": "code",
   "execution_count": 5,
   "id": "37a1f334-fe87-42e0-8176-305039e0536d",
   "metadata": {},
   "outputs": [],
   "source": [
    "#St000626The minimal period of a binary word."
   ]
  },
  {
   "cell_type": "code",
   "execution_count": 6,
   "id": "eb25e33e-b2d1-433f-aa6d-78f25ea9893e",
   "metadata": {},
   "outputs": [],
   "source": [
    "#St000627The exponent of a binary word."
   ]
  },
  {
   "cell_type": "code",
   "execution_count": null,
   "id": "58b47de4-49b4-4d48-b5b6-f1ca05f011a6",
   "metadata": {},
   "outputs": [],
   "source": [
    "#St000628The balance of a binary word."
   ]
  },
  {
   "cell_type": "code",
   "execution_count": 7,
   "id": "530b5846-1b52-4576-8b2d-c347c449d78b",
   "metadata": {},
   "outputs": [],
   "source": [
    "#St000629The defect of a binary word."
   ]
  },
  {
   "cell_type": "markdown",
   "id": "7adfd44b-4545-4035-a2fd-a626a39d5f6a",
   "metadata": {},
   "source": [
    "St000630The length of the shortest palindromic decomposition of a binary word.\n",
    "\n",
    "St000631The number of distinct palindromic decompositions of a binary word.\n",
    "\n",
    "St000682The Grundy value of Welter's game on a binary word.\n",
    "\n",
    "St000691The number of changes of a binary word.\n",
    "\n",
    "St000753The Grundy value for the game of Kayles on a binary word.\n",
    "\n",
    "St000792The Grundy value for the game of ruler on a binary word.\n",
    "\n",
    "St000826The stopping time of the decimal representation of the binary word for the 3x+1 problem.\n",
    "\n",
    "St000827The decimal representation of a binary word with a leading 1.\n",
    "\n",
    "St000847The number of standard Young tableaux whose descent set is the binary word.\n",
    "\n",
    "St000875The semilength of the longest Dyck word in the Catalan factorisation of a binary word.\n",
    "\n",
    "St000876The number of factors in the Catalan decomposition of a binary word.St000877The depth of the binary word interpreted as a path.St000878The number of ones minus the number of zeros of a binary word.St000885The number of critical steps in the Catalan decomposition of a binary word.St000921The number of internal inversions of a binary word.St000922The minimal number such that all substrings of this length are unique.St000982The length of the longest constant subword.St000983The length of the longest alternating subword.St001267The length of the Lyndon factorization of the binary word.St001313The number of Dyck paths above the lattice path given by a binary word.St001355Number of non-empty prefixes of a binary word that contain equally many 0's and 1's.St001365The number of lattice paths of the same length weakly above the path given by a binary word.St001371The length of the longest Yamanouchi prefix of a binary word.St001372The length of a longest cyclic run of ones of a binary word.St001413Half the length of the longest even length palindromic prefix of a binary word.St001414Half the length of the longest odd length palindromic prefix of a binary word.St001415The length of the longest palindromic prefix of a binary word.St001416The length of a longest palindromic factor of a binary word.St001417The length of a longest palindromic subword of a binary word.St001419The length of the longest palindromic factor beginning with a one of a binary word.St001420Half the length of a longest factor which is its own reverse-complement of a binary word.St001421Half the length of a longest factor which is its own reverse-complement and begins with a one of a binary word.St001423The number of distinct cubes in a binary word.St001424The number of distinct squares in a binary word.St001436The index of a given binary word in the lex-order among all its cyclic shifts.St001437The flex of a binary word.St001485The modular major index of a binary word.St001491The number of indecomposable projective-injective modules in the algebra corresponding to a subset.St001524The degree of symmetry of a binary word.St001721The degree of a binary word.St001722The number of minimal chains with small intervals between a binary word and the top element.St001730The number of times the path corresponding to a binary word crosses the base line.St001838The number of nonempty primitive factors of a binary word.St001884The number of borders of a binary word.St001885The number of binary words with the same proper border set.St001915The size of the component corresponding to a necklace in Bulgarian solitaire.St001916The number of transient elements in the orbit of Bulgarian solitaire corresponding to a necklace.St001930The weak major index of a binary word."
   ]
  },
  {
   "cell_type": "markdown",
   "id": "fa6b996e-301f-469f-bc16-a4c8abc01ac3",
   "metadata": {},
   "source": [
    "# Homomesy"
   ]
  },
  {
   "cell_type": "code",
   "execution_count": 19,
   "id": "5712b5eb-3477-4cee-b3f8-d66fbe906e44",
   "metadata": {},
   "outputs": [],
   "source": [
    "def get_avg_stat(word, Map, Stat):\n",
    "    \"\"\"\n",
    "    helper function for homomesy\n",
    "    args:\n",
    "        word: str, binary word\n",
    "        Map: function to map word\n",
    "        Stat: function to check statistic of word\n",
    "    \"\"\"\n",
    "    stat = 0\n",
    "    orbit = 0\n",
    "    current = word\n",
    "    while current != word or orbit == 0:\n",
    "        stat += Stat(current)\n",
    "        current = Map(current)\n",
    "        orbit += 1\n",
    "    stat = stat / orbit\n",
    "    return stat, orbit\n",
    "\n",
    "def homomesy(words, Map, Stat):\n",
    "    \"\"\"\n",
    "    args:\n",
    "        words: list, binary words to check\n",
    "        Map: function to map words with\n",
    "        Stat: function to check statistic of word\n",
    "    returns:\n",
    "        avg_stats: dict, average statistic of each word's orbit\n",
    "        orbits: dict, orbit sizes of each word\n",
    "        total_avg: int, average of all words statistic \n",
    "    \"\"\"\n",
    "    avg_stats = {}\n",
    "    orbits = {}\n",
    "    total_avg = 0\n",
    "    \n",
    "    for word in words:\n",
    "        avg_stats[word], orbits[word] = get_avg_stat(word, Map, Stat)\n",
    "\n",
    "    for word in words:\n",
    "        total_avg += Stat(word)\n",
    "    total_avg = total_avg / len(words)\n",
    "    \n",
    "    return avg_stats, orbits, total_avg\n",
    "\n",
    "\n",
    "def is_homomesic(words, Map, Stat):\n",
    "    avg_stats, orbits, total_avg = homomesy(words, Map, Stat)\n",
    "    for word in avg_stats:\n",
    "        if avg_stats[word] != total_avg:\n",
    "            print(f\"exception: {word}\")\n",
    "            print(f\"total average: {total_avg}\")\n",
    "            print(f\"average of {word}: {avg_stats[word]}\")\n",
    "            return False\n",
    "    return True\n",
    "     "
   ]
  },
  {
   "cell_type": "code",
   "execution_count": 20,
   "id": "60aa8966-4690-4ad0-95ae-427ce3178cf8",
   "metadata": {},
   "outputs": [
    {
     "data": {
      "text/plain": [
       "({'000': 1.5,\n",
       "  '001': 1.5,\n",
       "  '010': 1.5,\n",
       "  '011': 1.5,\n",
       "  '100': 1.5,\n",
       "  '101': 1.5,\n",
       "  '110': 1.5,\n",
       "  '111': 1.5},\n",
       " {'000': 2,\n",
       "  '001': 2,\n",
       "  '010': 2,\n",
       "  '011': 2,\n",
       "  '100': 2,\n",
       "  '101': 2,\n",
       "  '110': 2,\n",
       "  '111': 2},\n",
       " 1.5)"
      ]
     },
     "execution_count": 20,
     "metadata": {},
     "output_type": "execute_result"
    }
   ],
   "source": [
    "homomesy(binary_words(3), complement, number_of_ones)"
   ]
  },
  {
   "cell_type": "code",
   "execution_count": 23,
   "id": "30c061c7-db8f-4c03-8cda-0099a0f31ece",
   "metadata": {},
   "outputs": [
    {
     "data": {
      "text/plain": [
       "True"
      ]
     },
     "execution_count": 23,
     "metadata": {},
     "output_type": "execute_result"
    }
   ],
   "source": [
    "is_homomesic(binary_words(3), complement, number_of_ones)"
   ]
  },
  {
   "cell_type": "code",
   "execution_count": 22,
   "id": "1ef20439-17ad-4de4-ad10-6c332f244cf7",
   "metadata": {},
   "outputs": [],
   "source": [
    "## bunk code:\n",
    "\n",
    "# def homomesy(Map, words, Stat):\n",
    "#     avg_stats = {}\n",
    "#     orbit_sizes = {}\n",
    "#     for word in words:\n",
    "#         orbit_size = 1\n",
    "#         statsum = Stat(word)\n",
    "#         current = Map(word)\n",
    "#         prev = word\n",
    "#         while current != word:\n",
    "#             prev = current\n",
    "#             current = Map(current)\n",
    "#             statsum += Stat(current)\n",
    "#             orbit_size += 1\n",
    "#         avg_stats[word] = statsum / orbit_size\n",
    "#         orbit_sizes[word] = orbit_size\n",
    "        \n",
    "#     avg_stat_total = 0\n",
    "#     for word in words:\n",
    "#         avg_stat_total += Stat(word)\n",
    "#     avg_stat_total = avg_stat_total / len(words)\n",
    "#     return avg_stat_total, avg_stats, orbit_sizes\n",
    "\n",
    "# #import uhhh stuff\n",
    "\n",
    "# def get_orbit(Map, item):\n",
    "#     ''' Returns the orbit on the Map as a list starting with item.'''\n",
    "\n",
    "#     orbit = []\n",
    "#     current = item\n",
    "#     while current != item or orbit == []: \n",
    "#         orbit.append(Map(item))\n",
    "#     return orbit\n",
    "\n",
    "# def avg_stat(set_, Stat):\n",
    "#     ''' Returns the average of the statistic on a given set. '''\n",
    "\n",
    "#     stat_sum = 0\n",
    "#     for item in set_:\n",
    "#         stat_sum += Stat(item)\n",
    "#     return stat_sum / len(set_)\n",
    "\n",
    "# def is_homomesic(Map, object_set, Stat):\n",
    "#     ''' Returns bool for if the map on the set is homomesic under the given statistic.'''\n",
    "\n",
    "#     global_avg_stat = avg_stat(object_set, Stat)\n",
    "    \n",
    "#     # inefficient for now, figure out how to skip entries later?\n",
    "#     print(\"global average statistic: \", global_avg_stat)\n",
    "#     for item in object_set:\n",
    "#         orbit = get_orbit(Map, item)\n",
    "#         orbit_avg_stat = avg_stat(orbit, Stat)\n",
    "#         if orbit_avg_stat != global_avg_stat:\n",
    "#             print(f\"Exception is {str(orbit)}. average stat is {orbit_avg_stat}\")\n",
    "#             return False\n",
    "        \n",
    "#     return True"
   ]
  },
  {
   "cell_type": "code",
   "execution_count": null,
   "id": "e5948b7c-cb58-4467-b932-f3bb63d39fff",
   "metadata": {},
   "outputs": [],
   "source": []
  }
 ],
 "metadata": {
  "kernelspec": {
   "display_name": "Python 3 (ipykernel)",
   "language": "python",
   "name": "python3"
  },
  "language_info": {
   "codemirror_mode": {
    "name": "ipython",
    "version": 3
   },
   "file_extension": ".py",
   "mimetype": "text/x-python",
   "name": "python",
   "nbconvert_exporter": "python",
   "pygments_lexer": "ipython3",
   "version": "3.13.2"
  }
 },
 "nbformat": 4,
 "nbformat_minor": 5
}
